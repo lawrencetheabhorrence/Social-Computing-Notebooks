{
 "cells": [
  {
   "cell_type": "code",
   "execution_count": 1,
   "id": "66b3dd96-f7dd-4980-93ae-8622d130b1b0",
   "metadata": {
    "scrolled": true
   },
   "outputs": [
    {
     "name": "stdout",
     "output_type": "stream",
     "text": [
      "Requirement already satisfied: beautifulsoup4 in /home/julyanna/anaconda3/lib/python3.13/site-packages (4.12.3)\n",
      "Requirement already satisfied: requests in /home/julyanna/anaconda3/lib/python3.13/site-packages (2.32.3)\n",
      "Requirement already satisfied: selenium in /home/julyanna/anaconda3/lib/python3.13/site-packages (4.35.0)\n",
      "Requirement already satisfied: soupsieve>1.2 in /home/julyanna/anaconda3/lib/python3.13/site-packages (from beautifulsoup4) (2.5)\n",
      "Requirement already satisfied: charset-normalizer<4,>=2 in /home/julyanna/anaconda3/lib/python3.13/site-packages (from requests) (3.3.2)\n",
      "Requirement already satisfied: idna<4,>=2.5 in /home/julyanna/anaconda3/lib/python3.13/site-packages (from requests) (3.7)\n",
      "Requirement already satisfied: urllib3<3,>=1.21.1 in /home/julyanna/anaconda3/lib/python3.13/site-packages (from requests) (2.5.0)\n",
      "Requirement already satisfied: certifi>=2017.4.17 in /home/julyanna/anaconda3/lib/python3.13/site-packages (from requests) (2025.8.3)\n",
      "Requirement already satisfied: trio~=0.30.0 in /home/julyanna/anaconda3/lib/python3.13/site-packages (from selenium) (0.30.0)\n",
      "Requirement already satisfied: trio-websocket~=0.12.2 in /home/julyanna/anaconda3/lib/python3.13/site-packages (from selenium) (0.12.2)\n",
      "Requirement already satisfied: typing_extensions~=4.14.0 in /home/julyanna/anaconda3/lib/python3.13/site-packages (from selenium) (4.14.1)\n",
      "Requirement already satisfied: websocket-client~=1.8.0 in /home/julyanna/anaconda3/lib/python3.13/site-packages (from selenium) (1.8.0)\n",
      "Requirement already satisfied: attrs>=23.2.0 in /home/julyanna/anaconda3/lib/python3.13/site-packages (from trio~=0.30.0->selenium) (24.3.0)\n",
      "Requirement already satisfied: sortedcontainers in /home/julyanna/anaconda3/lib/python3.13/site-packages (from trio~=0.30.0->selenium) (2.4.0)\n",
      "Requirement already satisfied: outcome in /home/julyanna/anaconda3/lib/python3.13/site-packages (from trio~=0.30.0->selenium) (1.3.0.post0)\n",
      "Requirement already satisfied: sniffio>=1.3.0 in /home/julyanna/anaconda3/lib/python3.13/site-packages (from trio~=0.30.0->selenium) (1.3.0)\n",
      "Requirement already satisfied: wsproto>=0.14 in /home/julyanna/anaconda3/lib/python3.13/site-packages (from trio-websocket~=0.12.2->selenium) (1.2.0)\n",
      "Requirement already satisfied: pysocks!=1.5.7,<2.0,>=1.5.6 in /home/julyanna/anaconda3/lib/python3.13/site-packages (from urllib3[socks]<3.0,>=2.5.0->selenium) (1.7.1)\n",
      "Requirement already satisfied: h11<1,>=0.9.0 in /home/julyanna/anaconda3/lib/python3.13/site-packages (from wsproto>=0.14->trio-websocket~=0.12.2->selenium) (0.16.0)\n"
     ]
    }
   ],
   "source": [
    "!pip install beautifulsoup4 requests selenium"
   ]
  },
  {
   "cell_type": "code",
   "execution_count": 2,
   "id": "e5d1d25e-0f3b-4ccd-be68-47226780e3c2",
   "metadata": {},
   "outputs": [],
   "source": [
    "from selenium import webdriver\n",
    "from selenium.common import StaleElementReferenceException\n",
    "from selenium.webdriver.common.by import By\n",
    "from selenium.webdriver.support.wait import WebDriverWait\n",
    "from selenium.webdriver.common.action_chains import ActionChains\n",
    "\n",
    "driver = webdriver.Chrome()\n",
    "actions = ActionChains(driver)"
   ]
  },
  {
   "cell_type": "code",
   "execution_count": 3,
   "id": "2bc673d2-0f58-4caa-8ade-c32891096f33",
   "metadata": {},
   "outputs": [],
   "source": [
    "driver.get(\"https://www.rappler.com/newsbreak/investigative/g45301244-networked-propaganda/\")"
   ]
  },
  {
   "cell_type": "code",
   "execution_count": 4,
   "id": "5312b654-54a0-440e-8055-199789f16020",
   "metadata": {},
   "outputs": [
    {
     "name": "stdout",
     "output_type": "stream",
     "text": [
      "Load more..\n",
      "Load more..\n",
      "Load more..\n",
      "Load more..\n",
      "Load more..\n",
      "Load more..\n",
      "Load more..\n",
      "Load more..\n",
      "Load more..\n",
      "Load more..\n",
      "Load more..\n",
      "Load more..\n",
      "Load more..\n",
      "Load more..\n",
      "Load more..\n",
      "Load more..\n",
      "Load more..\n",
      "Load more..\n",
      "Load more..\n",
      "Load more..\n",
      "Load more..\n",
      "Load more..\n",
      "Load more..\n",
      "Load more..\n",
      "Load more..\n",
      "Load more..\n",
      "Load more..\n",
      "Load more..\n",
      "Load more..\n",
      "Load more..\n",
      "Load more..\n",
      "Load more..\n",
      "Load more..\n",
      "Load more..\n",
      "Load more..\n",
      "Load more..\n",
      "Load more..\n",
      "Load more..\n",
      "Load more..\n",
      "Load more..\n",
      "Load more..\n",
      "Load more..\n",
      "Load more..\n",
      "Load more..\n",
      "Load more..\n",
      "Load more..\n",
      "Load more..\n",
      "Load more..\n",
      "Load more..\n",
      "Load more..\n",
      "Load more..\n",
      "Load more..\n",
      "Load more..\n",
      "Load more..\n",
      "Load more..\n",
      "Load more..\n",
      "Load more..\n",
      "Load more..\n",
      "Load more..\n",
      "Load more..\n",
      "Load more..\n",
      "Load more..\n",
      "Load more..\n",
      "Load more..\n",
      "Load more..\n",
      "Load more..\n",
      "Load more..\n",
      "Load more..\n",
      "Load more..\n",
      "Load more..\n",
      "Load more..\n",
      "Load more..\n",
      "Load more..\n",
      "Load more..\n",
      "Load more..\n",
      "Load more..\n",
      "Load more..\n",
      "Load more..\n",
      "Load more..\n",
      "Load more..\n",
      "Load more..\n",
      "Load more..\n",
      "Load more..\n",
      "Load more..\n",
      "Load more..\n",
      "Load more..\n",
      "All loaded!\n"
     ]
    }
   ],
   "source": [
    "while True:\n",
    "    try:\n",
    "        wait = WebDriverWait(driver, timeout=5, poll_frequency=.2, ignored_exceptions=[StaleElementReferenceException])\n",
    "        wait.until(lambda _ : driver.execute_script(\"arguments[0].click();\", driver.find_element(By.CLASS_NAME, \"pagination__link\")) or True)\n",
    "        print(\"Load more..\")\n",
    "    except:\n",
    "        print(\"All loaded!\")\n",
    "        break;"
   ]
  },
  {
   "cell_type": "code",
   "execution_count": 8,
   "id": "faba27e9-4db2-4a18-8803-1848d35bfa1e",
   "metadata": {},
   "outputs": [
    {
     "data": {
      "text/plain": [
       "['YouTube removes nearly 11,000 propaganda channels linked to China, Russia, others',\n",
       " '[DECODED] Déjà vu: Parallels between US and Philippine propaganda',\n",
       " '[DECODED] Do politicians need facts when they have propaganda armies?',\n",
       " '[DECODED] Who’s afraid of Gen Z?',\n",
       " 'Pro-China propaganda pivots, targets civil society as tensions mount ',\n",
       " 'Meta says it removed China-based propaganda operation targeting US midterms',\n",
       " 'Tracking the Marcos disinformation and propaganda machinery',\n",
       " 'Quiboloy’s SMNI fuels disinformation, online attacks on gov’t critics',\n",
       " 'Study finds signs of ‘networked political manipulation’ on social media',\n",
       " 'Facebook group sheds Philippine history brand, now spreads Marcos propaganda',\n",
       " 'The story is not the ‘hack’; it’s the propaganda',\n",
       " '[ANALYSIS] Viber: The next frontier for political propaganda in the Philippines?',\n",
       " 'New war: How the propaganda network shifted from targeting ‘addicts’ to activists',\n",
       " 'Investigating troll farms: What to look out for',\n",
       " 'How Vietnam’s ‘influencer’ army wages information warfare on Facebook',\n",
       " 'Duterte wants vaccine deniers arrested | Evening wRap',\n",
       " 'The fake social media accounts amplifying Chinese propaganda',\n",
       " 'WATCH: How the propaganda machine took a beating when #OustDuterteNow trended',\n",
       " 'Duterte’s troll armies drown out COVID-19 dissent in the Philippines',\n",
       " 'Gov’t platforms being used to attack, red-tag media',\n",
       " 'Coronavirus response: Online outrage drowns out Duterte propaganda machine',\n",
       " 'Government offensive: Info operations attack media to manage SEA Games PR crisis',\n",
       " 'Networked propaganda: False narratives from the Marcos arsenal',\n",
       " 'Networked Propaganda: How the Marcoses are rewriting history',\n",
       " 'Networked propaganda: How the Marcoses are using social media to reclaim Malacañang',\n",
       " 'Tip of the iceberg: Tracing the network of spammy pages in Facebook takedown',\n",
       " 'Isaiah Thomas out for rest of playoffs',\n",
       " '[ANALYSIS] Viber: The next frontier for political propaganda in the Philippines?',\n",
       " 'More than 300 people dead in Pakistan after heavy rain, floods',\n",
       " 'World leaders react to Trump-Putin summit reaching no deal on Ukraine',\n",
       " 'This culinary student’s halo-halo wowed Gordon Ramsay — and it’s shaping her journey',\n",
       " 'Foes for now: La Salle legends Ara Galang, Kianna Dy gear up for 1st PVL finals',\n",
       " 'Is there tension between Napolcom and PNP?',\n",
       " 'Tough US stance casts gloom over plastics pollution deal after Geneva flop',\n",
       " 'The week in photos: August 9-15, 2025']"
      ]
     },
     "execution_count": 8,
     "metadata": {},
     "output_type": "execute_result"
    }
   ],
   "source": [
    "titles = driver.find_elements(By.CLASS_NAME, \"title-topics\");\n",
    "[title.text for title in titles]"
   ]
  },
  {
   "cell_type": "code",
   "execution_count": 10,
   "id": "2be0ec56-a5d9-48e0-8975-45b0dcbb1887",
   "metadata": {},
   "outputs": [
    {
     "data": {
      "text/plain": [
       "['https://www.rappler.com/technology/youtube-propaganda-channel-removal-china-russia-second-quarter-2025/',\n",
       " 'https://www.rappler.com/voices/newsletters/decoded-parallels-between-united-states-philippine-propaganda/',\n",
       " 'https://www.rappler.com/philippines/elections/decoded-politicians-need-facts-propaganda-armies/',\n",
       " 'https://www.rappler.com/voices/newsletters/decoded-who-is-afraid-gen-z/',\n",
       " 'https://www.rappler.com/newsbreak/investigative/pro-china-propaganda-pivots-targets-philippines-civil-society-tensions-mount/',\n",
       " 'https://www.rappler.com/technology/social-media/meta-removes-china-based-propaganda-operation-targeting-united-states-midterms/',\n",
       " 'https://www.rappler.com/newsbreak/iq/stories-tracking-marcos-disinformation-propaganda-machinery/',\n",
       " 'https://www.rappler.com/technology/social-media/apollo-quiboloy-sonshine-media-network-disinformation-attacks-government-critics/',\n",
       " 'https://www.rappler.com/philippines/elections/study-finds-sign-networked-political-manipulation-social-media-digital-public-pulse-project/',\n",
       " 'https://www.rappler.com/philippines/elections/facebook-group-sheds-philippine-history-brand-spreads-marcos-family-propaganda/',\n",
       " 'https://www.rappler.com/plus-membership-program/exclusive-content/story-not-comelec-hack-propaganda/',\n",
       " 'https://www.rappler.com/voices/thought-leaders/analysis-viber-next-frontier-political-propaganda-philippines/',\n",
       " 'https://www.rappler.com/newsbreak/investigative/how-propaganda-network-created-online-environment-justifies-shifted-killing-activists/',\n",
       " 'https://www.rappler.com/newsbreak/iq/investigating-troll-farms-what-to-look-out-for/',\n",
       " 'https://www.rappler.com/technology/features/vietnam-influencer-army-force-47-information-warfare-facebook/',\n",
       " 'https://www.rappler.com/video/daily-wrap/june-22-2021-evening-edition/',\n",
       " 'https://www.rappler.com/technology/features/pro-china-fake-social-media-accounts-coda-story/',\n",
       " 'https://www.rappler.com/philippines/video-how-propaganda-machine-took-beating-oust-duterte-trended/',\n",
       " 'https://www.rappler.com/technology/features/philippine-troll-armies-coda-story/',\n",
       " 'https://www.rappler.com/newsbreak/investigative/260602-government-platforms-being-used-attack-red-tag-media/',\n",
       " 'https://www.rappler.com/newsbreak/in-depth/coronavirus-response-online-outrage-drowns-duterte-propaganda-machine/',\n",
       " 'https://www.rappler.com/newsbreak/investigative/246186-government-offensive-info-operations-attack-media-manage-pr-crisis-sea-games-2019/',\n",
       " 'https://www.rappler.com/newsbreak/investigative/245540-networked-propaganda-false-narratives-from-the-marcos-arsenal/',\n",
       " 'https://www.rappler.com/newsbreak/investigative/245402-networked-propaganda-marcoses-rewriting-history/',\n",
       " 'https://www.rappler.com/newsbreak/investigative/245290-marcos-networked-propaganda-social-media/',\n",
       " 'https://www.rappler.com/newsbreak/investigative/215256-tracing-spammy-pages-network-facebook-takedown/',\n",
       " 'https://www.rappler.com/sports/nba/170476-boston-celtics-isaiah-thomas-playoffs-hip-injury/',\n",
       " 'https://www.rappler.com/voices/thought-leaders/analysis-viber-next-frontier-political-propaganda-philippines/',\n",
       " 'https://www.rappler.com/world/south-central-asia/death-toll-pakistan-heavy-rain-floods-august-16-2025/',\n",
       " 'https://www.rappler.com/world/global-affairs/world-leaders-react-trump-putin-summit-august-16-2025/',\n",
       " 'https://www.rappler.com/life-and-style/food-drinks/danica-lucero-culinary-student-journey-gordon-ramsay-challenge-winner/',\n",
       " 'https://www.rappler.com/sports/volleyball/la-salle-legends-ara-galang-kianna-dy-gear-up-pvl-finals-on-tour-2025/',\n",
       " 'https://www.rappler.com/newsbreak/podcasts-videos/is-there-tension-napolcom-pnp/',\n",
       " 'https://www.rappler.com/world/global-affairs/tough-united-states-stance-casts-gloom-plastics-pollution-deal-geneva-flop/',\n",
       " 'https://www.rappler.com/world/global-affairs/the-week-in-photos-august-9-15-2025/']"
      ]
     },
     "execution_count": 10,
     "metadata": {},
     "output_type": "execute_result"
    }
   ],
   "source": [
    "topic_urls = []\n",
    "for title in titles:\n",
    "    link = title.find_element(By.TAG_NAME, \"a\")\n",
    "    topic_urls.append(link.get_attribute(\"href\"))\n",
    "\n",
    "topic_urls"
   ]
  },
  {
   "cell_type": "code",
   "execution_count": null,
   "id": "aa9de4a2-a71c-4938-8c59-d2a31f7e8a82",
   "metadata": {},
   "outputs": [],
   "source": [
    "headers = {\n",
    "  'User-Agent': 'Mozilla/5.0 (Windows NT 10.0; Win64; x64) AppleWebKit/537.36 (KHTML, like Gecko) Chrome/127.0.0.0 Safari/537.36 Edg/127.0.0.0',\n",
    "  'Accept-Language': 'en-US,en;q=0.9',\n",
    "  'Accept-Encoding': 'gzip, deflate, br',\n",
    "  'Connection': 'keep-alive'\n",
    "}\n",
    "\n",
    "r = "
   ]
  }
 ],
 "metadata": {
  "kernelspec": {
   "display_name": "Python 3 (ipykernel)",
   "language": "python",
   "name": "python3"
  },
  "language_info": {
   "codemirror_mode": {
    "name": "ipython",
    "version": 3
   },
   "file_extension": ".py",
   "mimetype": "text/x-python",
   "name": "python",
   "nbconvert_exporter": "python",
   "pygments_lexer": "ipython3",
   "version": "3.13.5"
  }
 },
 "nbformat": 4,
 "nbformat_minor": 5
}
